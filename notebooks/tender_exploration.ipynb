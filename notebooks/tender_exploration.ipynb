{
 "cells": [
  {
   "cell_type": "code",
   "execution_count": null,
   "id": "971b49ab",
   "metadata": {},
   "outputs": [
    {
     "name": "stdout",
     "output_type": "stream",
     "text": [
      "Shape: (23, 9)\n",
      "Columns: ['Title', 'URL', 'Closing Date', 'Published On', 'Region', 'Bidding Status', 'Description', 'TOR Download Link', 'Scrape Timestamp']\n",
      "Sample:\n",
      "                                               Title  \\\n",
      "0  The National Veterinary Institute (NVI) here n...   \n",
      "1  The Development Bank of Ethiopia (DBE) like to...   \n",
      "2  The Hailemariam & Roman Foundation has receive...   \n",
      "3  Ipas Ethiopia Invites Eligible Bidders for the...   \n",
      "4  Ethiopian Agricultural Transformation Institut...   \n",
      "\n",
      "                                                 URL  \\\n",
      "0  https://tender.2merkato.com/tenders/67fcf6ab28...   \n",
      "1  https://tender.2merkato.com/tenders/67fce9ccd8...   \n",
      "2  https://tender.2merkato.com/tenders/67fcdb00d2...   \n",
      "3  https://tender.2merkato.com/tenders/67fccf5c62...   \n",
      "4  https://tender.2merkato.com/tenders/67fcc28eea...   \n",
      "\n",
      "                                        Closing Date  Published On  \\\n",
      "0                             June 11, 2025 11:00 AM  Apr 13, 2025   \n",
      "1                           May 08, 2025 at 4:00 P.M  Apr 13, 2025   \n",
      "2                        No later than April 29/2025  Apr 12, 2025   \n",
      "3  Within 10 days starting from the date of annou...  Apr 13, 2025   \n",
      "4                        April 25, 2025, at 2:00 P.M  Apr 13, 2025   \n",
      "\n",
      "        Region Bidding Status  \\\n",
      "0       Oromia           Open   \n",
      "1  Addis Ababa           Open   \n",
      "2  Addis Ababa           Open   \n",
      "3  Addis Ababa           Open   \n",
      "4  Addis Ababa           Open   \n",
      "\n",
      "                                         Description  \\\n",
      "0  <p style=\"text-align:center;\"><strong><span st...   \n",
      "1  <p style=\"text-align:center;\"><strong>REQUEST ...   \n",
      "2  <p style=\"text-align:center;\"><strong><span st...   \n",
      "3  <p style=\"text-align:center;\"><strong>Call for...   \n",
      "4  <p style=\"text-align:center;\"><strong>REQUEST ...   \n",
      "\n",
      "                                   TOR Download Link Scrape Timestamp  \n",
      "0                                          Not found        Not found  \n",
      "1                                          Not found        Not found  \n",
      "2  https://tender.2merkato.com/documents/67fcdb37...        Not found  \n",
      "3                                          Not found        Not found  \n",
      "4                                          Not found        Not found  \n"
     ]
    }
   ],
   "source": [
    "import pandas as pd\n",
    "import csv\n",
    "import sys\n",
    "\n",
    "csv.field_size_limit(sys.maxsize)\n",
    "\n",
    "file_in = \"tenders.csv\"\n",
    "\n",
    "# Try reading with Python's CSV engine (more tolerant than default)\n",
    "df = pd.read_csv(file_in, engine=\"python\")\n",
    "# Check basic info\n",
    "print(\"Shape:\", df.shape)\n",
    "print(\"Columns:\", df.columns.tolist())\n",
    "print(\"Sample:\")\n",
    "print(df.head())"
   ]
  }
 ],
 "metadata": {
  "kernelspec": {
   "display_name": "venv (3.12.3)",
   "language": "python",
   "name": "python3"
  },
  "language_info": {
   "codemirror_mode": {
    "name": "ipython",
    "version": 3
   },
   "file_extension": ".py",
   "mimetype": "text/x-python",
   "name": "python",
   "nbconvert_exporter": "python",
   "pygments_lexer": "ipython3",
   "version": "3.12.3"
  }
 },
 "nbformat": 4,
 "nbformat_minor": 5
}
