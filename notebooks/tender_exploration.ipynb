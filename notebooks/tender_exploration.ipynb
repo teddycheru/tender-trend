{
 "cells": [
  {
   "cell_type": "markdown",
   "id": "0832df90",
   "metadata": {},
   "source": [
    "## Exploring raw data"
   ]
  },
  {
   "cell_type": "markdown",
   "id": "84bbb92e",
   "metadata": {},
   "source": [
    "### scraped tenders from 2merkato.com"
   ]
  },
  {
   "cell_type": "code",
   "execution_count": 11,
   "id": "65a222f4",
   "metadata": {},
   "outputs": [
    {
     "data": {
      "text/plain": [
       "9223372036854775807"
      ]
     },
     "execution_count": 11,
     "metadata": {},
     "output_type": "execute_result"
    }
   ],
   "source": [
    "import pandas as pd\n",
    "import csv\n",
    "import sys\n",
    "\n",
    "chunksize = 50_000  # Read in 50k rows at a time\n",
    "csv.field_size_limit(sys.maxsize)"
   ]
  },
  {
   "cell_type": "code",
   "execution_count": 4,
   "id": "971b49ab",
   "metadata": {},
   "outputs": [
    {
     "name": "stdout",
     "output_type": "stream",
     "text": [
      "--- Chunk 1 ---\n",
      "Shape: (49999, 9)\n",
      "--- Chunk 2 ---\n",
      "Shape: (50000, 9)\n",
      "--- Chunk 3 ---\n",
      "Shape: (50000, 9)\n",
      "--- Chunk 4 ---\n",
      "Shape: (50000, 9)\n",
      "--- Chunk 5 ---\n",
      "Shape: (50000, 9)\n",
      "--- Chunk 6 ---\n",
      "Shape: (50000, 9)\n",
      "--- Chunk 7 ---\n",
      "Shape: (41488, 9)\n"
     ]
    }
   ],
   "source": [
    "raw_csv = \"../data/raw/tenders_2merkato.csv\"\n",
    "\n",
    "# Read CSV in chunks\n",
    "chunk_iter = pd.read_csv(\n",
    "    raw_csv,\n",
    "    chunksize=chunksize,\n",
    "    on_bad_lines=\"skip\",\n",
    "    engine=\"python\"\n",
    ")\n",
    "\n",
    "# process chunks one by one\n",
    "for i, chunk in enumerate(chunk_iter, start=1):\n",
    "    print(f\"--- Chunk {i} ---\")\n",
    "    print(\"Shape:\", chunk.shape)"
   ]
  },
  {
   "cell_type": "markdown",
   "id": "4df2827d",
   "metadata": {},
   "source": [
    "## Exploring cleaned data"
   ]
  },
  {
   "cell_type": "markdown",
   "id": "503e0946",
   "metadata": {},
   "source": [
    "### cleaning tenders data from 2merkato.com"
   ]
  },
  {
   "cell_type": "code",
   "execution_count": 6,
   "id": "1a589707",
   "metadata": {},
   "outputs": [
    {
     "name": "stdout",
     "output_type": "stream",
     "text": [
      "\n",
      "--- Processing Chunk 1 ---\n",
      "Shape: (50000, 12)\n",
      "Columns: ['Title', 'URL', 'Closing Date', 'Published On', 'Region', 'Bidding Status', 'Description', 'TOR Download Link', 'Scrape Timestamp', 'Language', 'Title_clean', 'Description_clean']\n",
      "\n",
      "Sample rows:\n",
      "                                               Title  \\\n",
      "0  Ethiopian Public Health Institute Invites Elig...   \n",
      "1  St. Peter Specialized Hospital Invites Eligibl...   \n",
      "2  The Federal Democratic Republic of Ethiopia, M...   \n",
      "3  Woldia University Invites Eligible Bidders for...   \n",
      "4  SOS Children’s Villages in Ethiopia want to pr...   \n",
      "\n",
      "                                         Title_clean  \\\n",
      "0  ethiopian public health institute invites elig...   \n",
      "1  st. peter specialized hospital invites eligibl...   \n",
      "2  the federal democratic republic of ethiopia, m...   \n",
      "3  woldia university invites eligible bidders for...   \n",
      "4  sos children s villages in ethiopia want to pr...   \n",
      "\n",
      "                                   Description_clean  \n",
      "0  Invitation to Bid  \\n Procurement of Laborator...  \n",
      "1  invitation to bid procurement of pharmaceutica...  \n",
      "2  request for bids quotation country: ethiopia n...  \n",
      "3  Invitation to Bid  \\n LOT: 05 ICT and Electron...  \n",
      "4  invitation to tender for different tools locat...  \n",
      "\n",
      "Random sample of cleaned text:\n",
      "                                             Title_clean  \\\n",
      "33553  total energies marketing ethiopia s.c would li...   \n",
      "9427   the islamic relief ethiopia ire now invites al...   \n",
      "199    ministry of culture sport invites eligible bid...   \n",
      "12447  ethiopian shipping and logistics would like to...   \n",
      "39489  hibret bank would like to invite interested el...   \n",
      "\n",
      "                                       Description_clean  \n",
      "33553  tender for the supply of totalenergies service...  \n",
      "9427   invitation to bid for conducting market assess...  \n",
      "199    \\n \\n \\n \\n \\n \\n \\n Invitation for Bid \\n Pro...  \n",
      "12447  invitation to bidders tender no. rfq eslse cor...  \n",
      "39489  invitation to bid bid no. hb 006 2022 hibret b...  \n",
      "\n",
      "--- Processing Chunk 2 ---\n",
      "Shape: (50000, 12)\n",
      "Columns: ['Title', 'URL', 'Closing Date', 'Published On', 'Region', 'Bidding Status', 'Description', 'TOR Download Link', 'Scrape Timestamp', 'Language', 'Title_clean', 'Description_clean']\n",
      "\n",
      "--- Processing Chunk 3 ---\n",
      "Shape: (32560, 12)\n",
      "Columns: ['Title', 'URL', 'Closing Date', 'Published On', 'Region', 'Bidding Status', 'Description', 'TOR Download Link', 'Scrape Timestamp', 'Language', 'Title_clean', 'Description_clean']\n",
      "\n",
      "==== Final Results ====\n",
      "Missing values:\n",
      "Title                   0\n",
      "URL                     0\n",
      "Closing Date          319\n",
      "Published On            0\n",
      "Region                  0\n",
      "Bidding Status          0\n",
      "Description          3592\n",
      "TOR Download Link       0\n",
      "Scrape Timestamp        0\n",
      "Language                0\n",
      "Title_clean             0\n",
      "Description_clean    3596\n",
      "dtype: int64\n",
      "\n",
      "Average lengths (raw vs cleaned):\n",
      "title_len_raw       142.597606\n",
      "title_len_clean     141.455628\n",
      "desc_len_raw       5043.564050\n",
      "desc_len_clean     2276.847347\n",
      "dtype: float64\n"
     ]
    }
   ],
   "source": [
    "cleaned_csv = \"../data/processed/tenders_english_2merkato.csv\"\n",
    "\n",
    "# Placeholders for summary stats\n",
    "missing_values = None\n",
    "length_summaries = []\n",
    "\n",
    "chunk_iter = pd.read_csv(\n",
    "    cleaned_csv,\n",
    "    chunksize=chunksize,\n",
    "    engine=\"python\",\n",
    "    on_bad_lines=\"skip\"\n",
    ")\n",
    "\n",
    "for i, chunk in enumerate(chunk_iter, start=1):\n",
    "    print(f\"\\n--- Processing Chunk {i} ---\")\n",
    "    print(\"Shape:\", chunk.shape)\n",
    "    print(\"Columns:\", chunk.columns.tolist())\n",
    "\n",
    "    # Peek at first rows (only for first chunk)\n",
    "    if i == 1:\n",
    "        print(\"\\nSample rows:\")\n",
    "        print(chunk[[\"Title\",\"Title_clean\", \"Description_clean\"]].head(5))\n",
    "\n",
    "    # Check missing values per chunk\n",
    "    chunk_missing = chunk.isna().sum()\n",
    "    if missing_values is None:\n",
    "        missing_values = chunk_missing\n",
    "    else:\n",
    "        missing_values += chunk_missing\n",
    "\n",
    "    # Check average lengths (before vs after cleaning)\n",
    "    chunk[\"title_len_raw\"] = chunk[\"Title\"].astype(str).str.len()\n",
    "    chunk[\"title_len_clean\"] = chunk[\"Title_clean\"].astype(str).str.len()\n",
    "    chunk[\"desc_len_raw\"] = chunk[\"Description\"].astype(str).str.len()\n",
    "    chunk[\"desc_len_clean\"] = chunk[\"Description_clean\"].astype(str).str.len()\n",
    "\n",
    "    length_summaries.append(chunk[[\"title_len_raw\", \"title_len_clean\", \"desc_len_raw\", \"desc_len_clean\"]].mean())\n",
    "\n",
    "    # Spot-check random cleaned samples (only first chunk for preview)\n",
    "    if i == 1:\n",
    "        print(\"\\nRandom sample of cleaned text:\")\n",
    "        print(chunk[[\"Title_clean\", \"Description_clean\"]].sample(5, random_state=42))\n",
    "\n",
    "# Combine averages across chunks\n",
    "avg_lengths = pd.DataFrame(length_summaries).mean()\n",
    "\n",
    "print(\"\\n==== Final Results ====\")\n",
    "print(\"Missing values:\")\n",
    "print(missing_values)\n",
    "\n",
    "print(\"\\nAverage lengths (raw vs cleaned):\")\n",
    "print(avg_lengths)"
   ]
  },
  {
   "cell_type": "code",
   "execution_count": 14,
   "id": "8f22c327",
   "metadata": {},
   "outputs": [
    {
     "name": "stdout",
     "output_type": "stream",
     "text": [
      "Language distribution:\n",
      "amharic: 208927\n",
      "english: 132560\n"
     ]
    }
   ],
   "source": [
    "input_file = \"../data/processed/tenders_clean_2merkato.csv\"\n",
    "chunk_size = 50_000  # adjust if you want smaller/larger chunks\n",
    "\n",
    "lang_counts = {}\n",
    "\n",
    "for chunk in pd.read_csv(input_file, chunksize=chunk_size, usecols=[\"Language\"]):\n",
    "    counts = chunk[\"Language\"].value_counts().to_dict()\n",
    "    for lang, count in counts.items():\n",
    "        lang_counts[lang] = lang_counts.get(lang, 0) + count\n",
    "\n",
    "print(\"Language distribution:\")\n",
    "for lang, count in lang_counts.items():\n",
    "    print(f\"{lang}: {count}\")"
   ]
  },
  {
   "cell_type": "code",
   "execution_count": 16,
   "id": "35cca82d",
   "metadata": {},
   "outputs": [
    {
     "name": "stdout",
     "output_type": "stream",
     "text": [
      "1000\n",
      "                                                                                                                                     Title_clean  \\\n",
      "0                            ethiopian public health institute invites eligible bidders for the procurement of laboratory equipment and supplies   \n",
      "1                                      st. peter specialized hospital invites eligible bidders for the procurement of pharmaceutical store shelf   \n",
      "2  the federal democratic republic of ethiopia, ministry of finance invite to eligible bidders for the procurement of cooking demonstration kits   \n",
      "3                                                woldia university invites eligible bidders for the procurement of ict and electronics equipment   \n",
      "4                                          sos children s villages in ethiopia want to procure sewing and general maintenance and workshop tools   \n",
      "\n",
      "                                                                                                                                                                                                                                                                                                                                                                                                                                                                                                                                                                                                                                                                                                                                                                                                                                                                                                                                                                                                                                                                                                                                                                                                                                                                                                                                                                                                                                                                                                                                                                                                                                                                                                                                                                                                                                                                                                                                                                                                                                                                                                                                                                                                                                                                                                                                                                                                                                                                                                                                                                                                                                                                                                                                                                                                                                                                                                                                                                                                                                                                                                                                                                                                                                                                                                                                                                                                                                                                                                                                                                                                                                                                                                                                                                                                                                                                                                                                                                                                                                                                                                                                                                                                                                                                                                                                                                                                                                                                                                                                                                                                                                                                                                                                                                                                                                                                                                                                                                                                                                                               Description_clean  \n",
      "0                                                                                                                                                                                                                                                                                                                                                                                                                                                                                                                                                                                                                                                                                                                                                                                                                                                                                                                                                                                                                                                                                                                                                                                                                                                                                                                                                                                                                                                                                                                                                                                                                               Invitation to Bid  \\n Procurement of Laboratory Equipment and Supplies - CDC \\n Procurement Reference No:  EPHI-NCB-G-0065-2017-BID Procurement Category:  Goods \\n Market Type:  National Procurement Method:  Open Procurement Classification Code:  \\n Lot Information  \\n \\n Object of Procurement:  Procurement of Laboratory Equipment and Supplies - CDC \\n Description:  Procurement of Laboratory Equipment and Supplies - CDC \\n Lot Number:  1 \\n Clarification Request Deadline: Apr 21, 2025, 3:12:28 AM \\n Pre-Bid Conference Schedule:  Not Applicable \\n Site Visit Schedule:  Not Applicable \\n Bid Submission Deadline: Apr 30, 2025, 8:12:28 PM \\n Bid Opening Schedule: Apr 30, 2025, 8:42:28 PM \\n \\n Eligibility Requirements Participation Fee:   Free of Charge:  Eligibility Documents:  \\n \\n \\n \\n \\n Legal Qualification  \\n \\n \\n \\n Factor \\n \\n Criteria \\n \\n \\n \\n \\n VAT registration certificate for Domestic Bidders \\n \\n \\n Having been submitted VAT registration certificate issued by the tax authority (in case of contract value of Birr 100,000.00 and above) in accordance with ITB Clause  4. 6(b)(ii) \\n \\n \\n \\n \\n Valid tax clearance certificate for Domestic Bidders \\n \\n \\n Having been submitted valid tax clearance certificate issued by the tax authority (Domestic Bidders Only) in accordance with ITB Clause 4.6(b)(iii) \\n \\n \\n \\n \\n Valid business license \\n \\n \\n Having been submitted valid trade license or business organization registration certificate issued by the country of establishment in accordance with ITB Clause 4.6(b)(i) \\n \\n \\n \\n \\n EFDA certificate \\n \\n \\n Certificate from EFDA \\n \\n \\n \\n \\n Technical Qualification \\n \\n \\n \\n \\n Factor \\n \\n \\n Criteria \\n \\n \\n \\n \\n Completion of Technical Specification + Technical Offer+ Compliance Sheet Form \\n \\n \\n Bidder has to complete its Technical Specification + Technical Offer+ Compliance Sheet Form in accordance with technical specification presented as per template in Section 6, Statement of Requirements and submit the following mandatory attachments \\n \\n \\n \\n \\n Bid Security Amount:  100,000 ETB \\n Bid Security Form For MSE:  Letter from Small and Micro Enterprise, \\n Bid Security From for Foreign Bidders:  Bank Guarantee, \\n Bid Security Form For Local Bidders:  \\n Notice:  \\n \\n Terms and Conditions:  \\n \\n \\n The institute has the right to cancel or amend the bid partially or completely. \\n The bidder should submit the item by their own transport to the institute. \\n አሸናፊው አቅራቢ የተወዳደረበትን ዕቃ በአካል ኢኒስቲትቱ ቅጥር ግቢ ማቅረብ አለበት። \\n ተጫራቾች የተጠየቀውን ስፔሲፊኬሽን በትክክል ሙሉ ሙሉ የሚያሟላ መሆኑን አረጋግጡ መሞላት አለበት። \\n ከቀረበው የቴክኒክአ ፍላጎት ውጪ አማራጭ የቴክኒክ መግለጫ ተቀባይነት የለውም። \\n The bidders must submit the bid security in person to the procurement office before the bid opening date and time. \\n ተጫራቾች ከጨረታው መክፈቻ ቀንና ሰዓት በፊት በአካል የጨረታ ማስከበሪያ የግዥ ክፍል ቢሮ ቁጥር 05 ድረስ ማምጣት አለባቸው። \\n \\n Address:  \\n \\n Procuring Entity:  Ethiopian Public Health Institute \\n Country:  Ethiopia \\n Town:  Addis Ababa \\n Street:  Pastor Square \\n Room Number:  05 \\n Telephone:  +251911668163 \\n Email:   zelalemg2003@gmail.com   \\n Po Box: \\n Fax:  ephi \\n \\n Please click on this Link In order to Bid on the Electronic Government Procurement website \\n https://production.egp.gov.et/egp/bids/publishedToday/tendering/1860a215-7a08-48b2-9289-4569e9f81c50/open    \n",
      "1  invitation to bid procurement of pharmaceutical store shelf 1 procurement reference no: spsh-ncb-w-0101-2017-bid procurement category: works market type: national procurement method: open procurement classification code: lot information object of procurement: procurement of pharmaceutical store shelf 1 description: not available lot number: 1 clarification request deadline: apr 26, 2025, 3:07:50 am pre-bid conference schedule: not applicable site visit schedule: not applicable bid submission deadline: may 6, 2025, 9:07:50 pm bid opening schedule: may 6, 2025, 9:37:50 pm eligibility requirements participation fee: free of charge: eligibility documents: financial qualification factor criteria financial resources the bidder must demonstrate access to, or availability of, financial resources such as liquid assets, unencumbered real assets, lines of credit, and other financial means, other than any contractual advance payments to meet the following cash-flow requirement: historical financial performance submission of audited balance sheets and other financial statements as required in the bds clause 17, for the last years to demonstrate the current soundness of the bidder s financial position and its prospective long term profitability average annual turnover the average annual turnover calculated as total certified payments received for contracts in progress or completed within the last years must exceed times the amount of the financial proposal of the bid. legal qualification factor criteria form data on joint ventures in the case of a bid submitted by a joint venture jv , the bidder has to submit the form data on joint ventures, the agreement governing the formation of the joint venture, or letter of intent to form jv, including a draft agreement, in accordance with itb clause 4.1 valid tax clearance certificate having been submitted valid tax clearance certificate issued by the tax authority domestic bidders only in accordance with itb clause 4.6 vat registration certificate having been submitted vat registration certificate issued by the tax authority in case of contract value of birr 200,000.00 and above in accordance with itb clause 4.6. conflict of interest no conflict of interest as described in itb clause 6. nationality nationality in accordance with itb clause 4.2. valid trade license or business organization registration certificate having been submitted valid trade license or business organization registration certificate issued by the country of establishment in accordance with itb clause 4.6. debarred by decision of the fppa not having been debarred by decision of the public procurement agency from participating in public procurements for breach of its obligation under previous contracts in accordance with itb clause 4.3. government owned entity compliance with conditions of itb clause 4.4. professional qualification factor criteria number of staff at least staff currently work for the bidder. personnel for the key positions among the staff mentioned in sub-clause 2.1 bidder must demonstrate that it will have the personnel for the key positions that meet the following requirements; technical qualification factor criteria general experience the bidder has successfully completed at least contracts with a budget of at least that of this contract in the past years specific experience the bidder has successfully participated as contractor or subcontractor, in at least contracts within the last years, each with a value of at least , that have been successfully and substantially completed and that are similar to the proposed works. equipment for the implementation of the contract the bidder must demonstrate that it will have available for the implementation of the contract the following equipment listed hereafter: equipment type and characteristics and minimum number required pending litigation all pending litigation shall in total not represent more than percent of the bidder s net worth and shall be treated as resolved against the bidder. history of non performing contracts non-performance of a contract did not occur within the last years prior to the deadline for bid submission, based on all information on fully settled disputes or litigation. a fully settled dispute or litigation is one that has been resolved in accordance with the dispute resolution mechanism under the respective contract, and where all appeal instances available to the bidder have been exhausted. bid security amount: 45,000 etb bid security form for mse: bank wire transfer, bank guarantee, bid security from for foreign bidders: bank wire transfer, bank guarantee, bid security form for local bidders: bank wire transfer, bank guarantee, notice: terms and conditions: address: procuring entity: st. peter specialized hospital please click on this link in order to bid on the electronic government procurement website  \n",
      "2                                                                                                                                                                                                                                                                                                                                                                                                                                                                                                                                                                                                                                                                                                                                                                                                                                                                                                                                                                                                                                                                                                                                                                                                                                                                                                                                                                                                                                                                                                                                                                                                                                                                                                                                                        request for bids quotation country: ethiopia name of project: human capital operation project contract title: procurement of cooking demonstration kits qty 575 kits for 23 woredas for unise implementation grant no.:ida-e2060 rfq reference no.: et-mof-480687-go-rfq the federal democratic republic of ethiopia, ministry of finance has received financing from the world bank toward the cost of the human capital operation project and intends to apply part of the proceeds toward payments under the contract for the supply of cooking demonstration kits for 575 health facilities of 23 woredas for unise implementation required items described below. the ministry of finance, the implementing entity of the project, now invites sealed quotation from eligible bidders for supply of the following items item no type of equipment technical requirement size unit of measurement quantity required for 575 health facilities 1 cooking pot stainless steel medium 4,000ml number 1725 2 chopping board plastic medium 30cm x 45cm number 1725 3 knife stainless steel medium 30cm number 1725 4 small bowel mica small 500 ml number 3450 5 tablespoon stainless steel 10ml number 3450 6 teaspoon stainless steel 5ml number 2300 7 cup plastic small 200ml number 5750 8 steer wooden medium number 1725 9 plate mica medium number 11500 10 ladles stainless steel medium 100 liter number 1725 11 washing bowel plastic medium 10 liter number 1725 12 washing jug plastic 1,000 ml number 575 13 kerosene of wood --- medium number 1150 14 plastic bucket plastic 20 liters number 575 15 sponge for washing sponge large number 2300 16 ajacs soap soap large number 11500 17 toilet soap soap large number 11500 18 hand washing bowel plastic medium number 1725 competition will be conducted through national bid using a request for quotations as specified in the world bank s procurement regulations for ipf bor-rowers september 2023 procurement regulations , and is open to all eligible bidders as defined in the procurement regulations. interested eligible bidders may obtain further information from ministry of finance, channel one programs coordinating department and inspect the quotation document during office hour s 2:30 am to 5:00 pm local time at the address given below. the bidding document in english may be purchased by interested eligible quotation provider upon the submission of a written application to the address below and upon payment of a non refundable fee of etb 100. the method of payment will be in cash. quotations must be delivered to the address below on or before 25 april 2025, electronic quotation will not be permitted. late bids will be rejected. the quotation will be publicly opened in the presence of the bidders designated representatives and anyone who chooses to attend, at the address below on 25 april 2025. all quotations must be accompanied by a bid security of etb 70,000.00 in the form of bank guarantees the address es referred to above is are : channel one programs coordinating department copcd sidist killo, yekatit 12 square, kinggeorge avenue, infront of lion cage main building,6th floor, room ng 615, tel. 251-11 120 4000 with extension1605 1636 1617 ministry of finance  \n",
      "3                                                                                                                                                                                                                                                                                                                                                                                                                                                                                                                                                                                                                                                                                                                                                                                                                                                                                                                                                                                                                                                                                                                                                                                                                                                                                                                                                                                                                                                                                                                                                                                                                                                                                                                                                                                                                                                                                                                                                                                                                                                                                                                                                                                                                                                                                                                                                                                                                                                                                                                                                                                                                                                                                                                                                                                                                                                                                                                                                                                        Invitation to Bid  \\n LOT: 05 ICT and Electronics Equipment \\n Procurement Reference No:  WDU-NCB-G-0015-2017-BID Procurement Category:  Goods \\n Market Type:  National Procurement Method:  Open Procurement Classification Code:  \\n Lot Information  \\n \\n Object of Procurement:  LOT: 05 ICT and Electronics Equipment \\n Description:  LOT: 05 ICT and Electronics Equipment \\n Lot Number:  1 \\n Clarification Request Deadline: Apr 26, 2025, 3:00:37 AM \\n Pre-Bid Conference Schedule:  Not Applicable \\n Site Visit Schedule:  Not Applicable \\n Bid Submission Deadline: Apr 30, 2025, 8:00:37 PM \\n Bid Opening Schedule: Apr 30, 2025, 8:30:37 PM \\n \\n Eligibility Requirements Participation Fee:   Free of Charge:  Eligibility Documents:  \\n \\n \\n \\n \\n Legal Qualification  \\n \\n \\n \\n \\n Factor \\n \\n \\n Criteria \\n \\n \\n \\n \\n Conflict of interest \\n \\n \\n No conflict of interest as described in ITB Clause 4.3 \\n \\n \\n \\n \\n Bidder Nationality \\n \\n \\n Nationality in accordance with ITB Sub-Clause 4.2 \\n \\n \\n \\n \\n Bid Security Amount:  400,000 ETB \\n Bid Security Form For MSE:  Letter from Small and Micro Enterprise, Bank Guarantee, Bank/Wire Transfer, \\n Bid Security From for Foreign Bidders:  Bank Guarantee, \\n Bid Security Form For Local Bidders:  Bank Guarantee, \\n Notice:  \\n \\n Terms and Conditions:  \\n \\n \\n ማሳሰቢያ፡-አሸናፊው ድርጅት ያሸነፈውን እቃ ወልድያ ዩኒቨርሲቲ ድረስ በራሱ ወጭ አጓጉዞ ማስረከብ ይኖርበታል። \\n እቃውን በተጠየቀው ስፔስፊኬሽን መሰረት ማቅረብ ይጠበቅበታል። \\n በጉዞ ላይ የሚደርስን ጉዳት አሸናፊው ድርጅት ይሸፍናል። \\n የሚያቀርባቸውን እቃዎች የመገጣጠም፤የማሰልጠን ስራዎች በአሸናፊው ድርጅት የሚሸፈን ይሆናል። \\n ዩኒቨርሲቲው ጨረታውን ሙሉ በሙሉ ወይም በከፊል የመሰረዝ መብት አለው። \\n \\n Address:  \\n \\n Procuring Entity:  Woldia University \\n Country:  Ethiopia \\n Town:  Woldia  \\n Street:  0 \\n Room Number:  5 \\n Telephone:  +251910109766 \\n Email:   bahru@gmail.com   \\n Po Box: \\n Fax:  111 \\n \\n Please click on this Link In order to Bid on the Electronic Government Procurement website \\n https://production.egp.gov.et/egp/bids/publishedToday/tendering/72cc3a4d-ee07-4758-be74-a0f95add7618/open    \n",
      "4                                                                                                                                                                                                                                                                                                                                                                                                                                                                                                                                                                                                                                                                                                                                                                                                                                                                                                            invitation to tender for different tools location: sos children s village s ethiopia issuance date: 15 april 2025 submission deadline: 24 april 2025 sos children s villages in ethiopia is a member of the international federation of sos children s villages. it is a non-political, non-religious social development organization focused on the well-being and development of children. it was founded in 1974 and has since been a development partner to the government of ethiopia, and it has positively impacted the lives of thousands of children, families, and communities. we operate in seven locations: addis ababa, bahir dar, mekelle, jimma, harar, hawassa, and gode , with additional satellite projects in each region and the national office in addis ababa. for one of its projects, named step , we want to procure sewing and general maintenance and workshop tools hereby invite potential suppliers to submit their offer according to the below item details, instructions to bidders, and general terms and conditions of purchase as described hereunder: eligibility documents - valid business license e.c. 2017 renewed license, taxpayer registration certificate tin , and vat registration certificate. company profile listing the bidders address, branches, structure, etc. evidence of past satisfactory performance on the provision of similar supplies. please ensure that the brand names and detailed specifications of the items are clearly stated in the bid. we do not base our evaluation solely on the total price but rather on procuring each item at the lowest cost available, as bidders may not necessarily have all the listed items. therefore, please provide a quote only for the items currently available in stock. the tender document must be submitted in a sealed envelope, bearing an official company seal, and marked by the bidders name, address, and the tender reference number and title as stated above. tenders must be submitted in the bid box prepared for these purposes at sos children s villages in ethiopia national office in addis ababa, located at bole atlas in front of mado hotel, tel: 011 661 1655 or before 24 april 2025 03:00 pm. the sos children s villages in ethiopia procurement committee will open tender responses on 25 april 2025 at its discretion. sos cve reserves the right to accept or reject this bid, in partial or in its entirety. eligibility documents - valid business license e.c. 2017 , vat , tax payers certificate company profile listing the bidders address, branches, structure, resources, etc. evidence of past satisfactory performance on the provision of similar supplies. tenders must be submitted in two sealed envelopes, one original technical, one original financial, separately, bearing an official company seal and clearly marked by the bidders name, address, and the tender reference number and title as stated above. tenders must be submitted in the bid box prepared for the purpose at sos children s village ethiopia national office offices in addis ababa, located at bole atlas in front of mado hotel on april 24, 2025 sos cve reserves the right to accept or reject this bid, in partial or in its entirety. 1. sewing tools no item description unit qty 1 sewing machine juk pcs 11 2 overlock pcs 6 3 embroidery praise pcs 6 4 iron philips pcs 6 5 interlock pcs 6 2. general maintenance and workshop tools no item description unit qty 1 open wrench finder 6.32 pcs 6 2 ppr cawoya total 1500w-2 inch pcs 6 3 electrode 2.5 permanent pcs 9 4 normal test light pcs 27 5 compressor 2.5 hp 50 liter total pcs 7 6 welding 200a finder pcs 9 7 spray gun finder pcs 7 8 drill machine finder big size 1500 w pcs 18 9 angle grinder machine 950 finder pcs 9 10 chargeable drill 21v. finder pcs 40 11 cut off 2350w pcs 11 12 toolbox 187 pcs 1 13 clamp meter 1000 v unity pcs 40 14 blower 400 w finder pcs 14 15 adjustable wrench finder pcs 6 16 glass cutter finder pcs 11 17 plier finder large size pcs 46 18 water level 40 finder pcs 6 19 automatic plier finder pcs 6  \n"
     ]
    }
   ],
   "source": [
    "# Only load the needed columns\n",
    "use_cols = [\"Title_clean\", \"Description_clean\"]\n",
    "\n",
    "# Read in chunks\n",
    "chunksize = 1000  # morethan enough to look at the first five rows\n",
    "chunks = pd.read_csv(\"../data/processed/tenders_english_2merkato.csv\", usecols=use_cols, chunksize=chunksize)\n",
    "\n",
    "# Process first chunk only (demo)\n",
    "for chunk in chunks:\n",
    "    print(len(chunk))\n",
    "    print(chunk.head(5))\n",
    "    break"
   ]
  },
  {
   "cell_type": "code",
   "execution_count": 18,
   "id": "502fc70e",
   "metadata": {},
   "outputs": [
    {
     "name": "stdout",
     "output_type": "stream",
     "text": [
      "1000\n",
      "                                                                                                     Title_clean  \\\n",
      "0   የሞጣ ከተማ አስተዳደር ከተማ ልማት ቤቶችና ኮንስትራክሽን አገልግሎት ጽ/ቤት ለመኖሪያና ንግድ አገልግሎቶች የተዘጋጁ ቦታዎችን በግልጽ ጨረታ ለተጫራቾች ማስተላለፍ ይፈልጋል   \n",
      "1  የእብናት ወረዳ ገንዘብና ኢኮኖሚ ልማት ጽ/ቤት ለእብናት ወረዳ ትምህርት ጽ/ቤት አገልግሎት የሚውሉ በህብረት 1ኛ ደረጃ G+1 ባለ 10 የመማሪያ ክፍል ለማስገንባት ይፈልጋል   \n",
      "2                                                      በአብክመ የወሳኝ ኩነቶች ምዝገባ አገልግሎት ለአገልግሎት የሚውሉ ታብሌት ለመግዛት ይፈልጋል   \n",
      "3                                                             ጣና ማይክሮ ፋይናንስ ተቋም አ.ማ የመኖሪያ ቤት በሐራጅ ጨረታ ለመሸጥ ይፈልጋል   \n",
      "4                                               ብርሃን ባንክ አ.ማ የተለያዩ ያገለገሉ ተሽከርካሪዎች ባሉበት ሁኔታ በጨረታ አወዳድሮ ለመሸጥ ይፈልጋል   \n",
      "\n",
      "                                                                                                                                                                                                                                                                                                                                                                                                                                                                                                                                                                                                                                                                                                                                                                                                                                                                                                                                                                                                                                                                                                                                                                                                                                                                                                                                                                                                                                                                                                                                                                                                                                                                                                                                                                                                                                                                                                                                                                                                                                                                                                                                                                                                                                                                                                                                                                                                                                                                                                                                                                                                                                                                                                                                                                                         Description_clean  \n",
      "0                                                                                                                                                                                                                                                                                                                                                                                                                                                                                                                                                                                                                                                                                                                                                                                                                                                                                                                                                                                                                                                                                                                                                                                                                                                                                                                                                                                                                                                                                                                                   ለመጀመሪያ ጊዜ የወጣ የመደበኛና ልዩ የጨረታ ማስታወቂያ \\n የሞጣ ከተማ አስተዳደር ከተማ ልማት ቤቶችና ኮንስትራክሽን አገልግሎት ጽ/ቤት የከተማ ቦታን በሊዝ ለመያዝ በሚደነግገው አዋጅ ቁጥር 721/2004 አንቀጽ 8 ንዑስ አንቀጽ 1 በፊደል ተራ ከ”ሀ እስክ “ሠ” በተዘረዘረው መሰረት ለመኖሪያና ንግድ አገልግሎቶች የተዘጋጁ ቦታዎችን በግልጽ ጨረታ ለተጫራቾች ማስተላለፍ ይፈልጋል፡፡ \\n በመሆኑም መጫረት የሚፈልግ ማንኛውም ሰው ይህ ማስታወቂያ በጋዜጣ ከወጣበት ቀን ጀምሮ ባሉት 10 ተከታታይ የስራ ቀናት  የጨረታ ሰነድ በማይመለስ 300 ብር  በመክፈል ሞጣ ከተማ አስ/ከ/መ/ል/ጽ/ቤት ድረስ በመምጣት በስራ ስዓት እስከ ቀኑ 11፡00 ስዓት ብቻ መግዛት የምትችሉ መሆኑን እናሳውቃለን። \\n \\n የጨረታ ሰነድ ማስገቢያ ጊዜ ማስታወቂያው በጋዜጣ ከወጣበት ቀን ጀምሮ ባሉት 10 ተከታታይ የስራ ቀናት እስከ ቀኑ 11፡00 ብቻ ይሆናል። \\n ቦታውን መጐብኘት ለሚፈልግ ማንኛውም ተጫራች የጉብኝት ኘሮግራም በውስጥ ማስታወቂያ የምናሳውቅ ይሆናል። \\n ስለ ጨረታው ዝርዝር ማብራሪያ ከጨረታው ሰነድ ማግኘት ይቻላል። \\n ጨረታው የሚከፈተው ማስታወቂያው በጋዜጣ ከወጣበት ቀን ጀምሮ በ11ኛው ቀን ከጧቱ 3፡00 በከተማ አስተዳደሩ አዳራሽ ተጫራቾች ወይም ህጋዊ ወኪሎቻቸዉ በተገኙበት ይሆናል።11ኛዉ ቀን የስራ ቀን ካልሆነ በሚቀጥለው የስራ ቀን ይከፈታል ። \\n በጨረታው ለተሸነፉ ተጫራቾች ለጨረታው ማስከበሪያ የሚመለሰው የጨረታ አሸናፊው ከተረጋገጠበት ቀን ጀምሮ ዘወትር በስራ ስዓት ይሆናል። \\n ተጫራቾች የጨረታ ማስከበሪያ ዋስትናና የተጫረቱበትን የቦታ ስፋት በቦታው የመነሻ ዋጋ በማባዛት የሚገኘውን ውጤት  ከ10 በመቶ ያላነሰ  በዝግ አካውንት በማስገባት በባንክ የተመሰከረለት (ሲፒኦ) ሰነድ ከዋጋ እና ከሃሳብ ማቅረቢያ ሰነድ ጋር ማቅረብ ይኖርባቸዋል። \\n ጽ/ቤቱ የተሻለ አማራጭ ካገኘ ጨረታውን በሙሉ ወይም በከፊል የመሰረዝ መብቱ የተጠበቀ ነው። \\n ስለጨረታው ዝርዝር መረጃ 0586612040/ 0586610027 በመደወል ማግኘት ይችላሉ። \\n \\n የሞጣ ከተማ አስተዳደር ከተማ ልማት ቤቶችና ኮንስትራክሽን አገልግሎት ጽ/ቤት  \n",
      "1                                                                                                                                                                                                                                                                                                                                                                                                                                                                                                                                                                                                                                                                                                                                                                                                                                                                                                                                                                                                                                                                                                                                                                                                                                                   በድጋሚ የወጣ ግልጽ የጨረታ ማስታወቂያ \\n የእብናት ወረዳ ገንዘብና ኢኮኖሚ ልማት ጽ/ቤት ለእብናት ወረዳ ትምህርት ጽ/ቤት አገልግሎት የሚውሉ በህብረት 1ኛ ደረጃ G+1 ባለ 10 የመማሪያ ክፍል ለማስገንባት ይፈልጋል። \\n በመሆኑም ከዚህ በታች የተዘረ ዘሩትን መስፈርቶችን የምታሟሉ መወዳደር ትችላላችሁ፡፡ \\n \\n የዘመኑ የታደሰ ንግድ ፍቃድ ያላቸው። \\n የግብር ከፋይ መለያ ቁጥር (ቲን) ያላቸው። \\n የቫት ተመዝጋቢ የሆኑ። \\n የታደሰ የብቃት ማረጋገጫ ያላቸው። \\n ተጫራቾች ደረጃ 5 እና ከዚያ በላይ መሆን አለባቸው \\n ተጫራቾች  የጨረታ ማስከበሪያ ዋስትና ጠቅላላ ዋጋ ድምር 2 በመቶ  በባንክ በተረጋገጠ የክፍያ ትእዛዝ /ሲፒኦ/ በእብናት ወረዳ ገንዘብ ጽ/ቤት ስም በማሰራት ወይም በባንክ የተረጋገጠ የባንክ ጋራንት /በጥሬ ገንዘብ/ እብናት ወረዳ ገ/ኢ/ል /ጽ/ ቤት ዋና ገ/ያዥ ገቢ በማድረግ የገቢ ደረሰኝ ከኦርጅናል የጨረታ ሰነዱ ጋር ታሽጎ መቅረብ አለበት። \\n ማንኛውም ተጫራች የጨረታ ሀሳቡን በሰነድ በጥንቃቄ በታሸገ ፖስታ ውስጥ አድርጎ ኦርጅናል ሰነድ እብናት ወረዳ ገ/ጽ/ቤት ግዥና ን/አስ/ቡድን መሪ ቢሮ ቁጥር 06 ባዘጋጀዉ ሳጥን ማስገባት ይችላሉ። ጨረታዉ ማስታወቂያው በጋዜጣ ከወጣበት የመጀመሪያ ቀን አንስቶ ለተከታታይ ለ21 ቀናት ቆይቶ በ22ኛው ቀን ይከፈታል። \\n ተጫራቾች (ህጋዊ ወኪሎቻቸው) ቢገኙም ባይገኙም በግዥና/ን/አስ/ቡድን መሪ ቢሮ ቁጥር 06 ጨረታው በወጣ በ22ኛው ቀን ከሰአት 8፡30 ታሽጎ 9:00 ላይ ይከፈታል ። ቀኑ ቅዳሜና እሁድ /የህዝብ በአል ከሆነ/ በቀጣይ የስራ ቀን በተመሳሳይ ስዓት ይከፈታል። \\n አሸናፊው ለስራ በተፈለገበት ስዓት ለ3 ቀናት ተጠብቆ ካልቀረበ በመመሪያ መሰረት መ/ቤቱ እርምጃ የመውሰድ መብቱ የተጠበቀ ነው። \\n ተጫራቾች የዋጋ ዝርዝር በሚሞሉበት ስዓት ስርዝ ድልዝ ወይም በፍሉድ የጠፋ ከሆነ ከጨረታ ውጭ ያደርጋል። \\n የጨረታ ሰነዱን ቢሮ ቁጥር 08  የማይመለስ 500 ብር  በመክፈል ሰነዱን መግዛት ይችላሉ፡፡ \\n  ደረቅ ቼክ ማስያዝ አይቻልም። \\n  አሸናፊው እንደተለየ ከ5 የስራ ቀናት በኋላ ባሉት 5 ተከታታይ ቀናት ውስጥ እብናት ወረዳ ገንዘብ/ጽ/ቤት ድረስ በመቅረብ የውል ማስከበሪያ በማስያዝ ውል መውሰድ አለበት። \\n መ/ቤቱ የተሻለ አማራጭ ካገኘ ጨረታውን በሙሉ ወይም በከፊል የመሰረዝ መብት አለው። \\n ጨረታዉ ፀንቶ የሚቆይበት ጊዜ ለ30 ቀናት ይሆናል። \\n በጨረታው ለመሳተፍ የሚፈልጉ ስለጨረታው ዝርዝር መረጃ ከፈለጉ ቢሮ ቁጥር 06 በመምጣት ወይም በስልክ ቁጥር 0584400606 /218 መጠየቅ ይችላሉ። \\n \\n የእብናት ወረዳ ገንዘብና ኢኮኖሚ ትበብር  \n",
      "2                                                                                                                                                                                                                                                                                                                                                                                                                                                                                                                                                                                                                                                                                                                                                                                                                                                                                                                                                                                                                                                                                                ግልጽ የጨረታ ማስታወቂያ \\n የጨረታ ቁጥር አብክመ /ወኩምኤ/ብ/ግ/ጨ//04/2017 \\n በአብክመ የወሳኝ ኩነቶች ምዝገባ አገልግሎት ለአገልግሎት የሚውሉ ታብሌት ለመግዛት ይፈልጋል። \\n ስለሆነም የሚከተሉትን መስፈርቶች የሚያሟሉ ተጫራቾችን ይጋብዛል። \\n \\n በዘመኑ የታደሰ ህጋዊ ንግድ ፈቃድ ያላቸው፡፡ \\n የግብር ከፋይ መለያ ቁጥር (ቲን) ያላቸው፡፡ \\n የግዥው መጠን ብር 200,000.00 (ሁለት መቶ ሽ) እና በላይ ከሆነ የተጨማሪ እሴት ታክስ (ቫት )ከፋይነት የተመዘገቡ መሆናቸውን የሚያረጋግጥ የምስክር ወረቀት ማቅረብ የሚችሉ፡፡ \\n ተጫራቾች በጨረታ ለመሳተፍ ከላይ በተራ ቁጥር ከ1-3 የተጠቀሱትንና የሚመለከታቸውን ማስረጃዎች ፎቶ ኮፒ ከመጫረቻ ሰነዶቻቸው ጋር አያይዘው ማቅረብ አለባቸው፡፡ \\n የሚገዙ ዕቃዎችን ዓይነትና ዝርዝር መግለጫ (ስፔስፊኬሽን) ከጨረታ ሰነዱ ማግኘት ይቻላል፡፡ \\n ተጫራቾች  የጨረታ ሰነዱን የማይመለስ ብር 100.00 /መቶ /ብር  በመክፈል ከግዥ፣ ፋይናንስና ንብረት አስተዳደር ዳይሬክቶሪት ዳይሪክተር ማግኘት ይቻላል፡፡ \\n ተጫራቾች  የጨረታ ማስከበሪያ ዋስትና (ቢድ ቦንድ) ለሚወዳደሩባቸው የተለያዩ ምድቦች /ሎቶች/ 1 በመቶ  ተቀባይነት ባላቸው የአፈጻጸም ዋስትናዎች (ቢድ ቦንድ) በባንክ በተረጋገጠ ትዕዛዝ (ሲፒኦ) ወይም በሁኔታ ላይ ያልተመሰረተ የባንክ ዋስትና ወይም የሚያስይዙት ዋስትና በጥሬ ገንዘብ ከሆነ በአብክመ ወሳኝ ኩነቶች ምዝገባ አገልግሎት የተሰጠ ሕጋዊ ደረሰኝ ማስያዝ አለባቸው፡፡ \\n ከተጠቀሱት ዕቃዎች ተጫራቾች የቴክኒካል እና ፋይናንሻል የመጫረቻ ሰነዳቸውን በተለያዩ ሁለት ፖስታዎች አሽገው ማቅረብ ይኖርባቸዋል፡፡ ተጫራቾች ከአንድ ቴክኒካል እና ከአንድ ፋይናንሻል ኦሪጅናል በተጨማሪ አንድ ቅጅ ከአንድ ቴክኒካል እና አንድ ቅጅ ፋይናንሻል ኦርጅናል በጥንቃቄ በታሸገ ፖስታ ወሳኝ ኩነቶች ምዝገባ አገልግሎት በግዥና ንብ /አስተ/ ዳይሬክቶሬት ዳይሬክተር ወይም ቢሮ ቁጥር 406 በተዘጋጀው የጨረታ ሳጥን ዘወትር በስራ ሰዓት በጋዜጣ ከወጣበት ቀን ጀምሮ ባሉት 15ተከታታይ ቀናት ውስጥ ማስገባት ይኖርባቸዋል፡፡ \\n ተጫራቾች ወይም ህጋዊ ወኪሎቻቸው በተገኙበት በአብክመ ወሳኝ ኩነቶች ምዝገባ አገልግሎት በግዥ ንብ /አስ/ ዳይሬክቶሬት ዳይሬክተር ቢሮ ቁጥር 406  ጨረታው በጋዜጣ ከወጣበት ቀን ጀምሮ በ16ኛው ቀን ከጥዋቱ 4፡00 ተዘግቶ በዚሁ ዕለት 4፡30 የሚከፈት ሲሆን ቀኑ በዓል ከሆነ በሚቀጥለው የስራ ቀን የሚከፈት ይሆናል፡፡ \\n የአገልግሎት መ/ቤቱ የተሻለ አማራጭ ካገኘ ጨረታውን በከፊልም ሆነ ሙሉ በሙሉ የመሰረዝ መብቱ የተጠበቀ ነው። \\n በጨረታው ለመሳተፍ ለሚፈልጉ ስለጨረታው ዝርዝር መረጃ ከፈለጉ ቢሮ ቁጥር 406 ድረስ በአካል በመገኘት ወይም በስልክ ቁጥር 058 320 31 58 ፋክስ 058 320 11 83 ፖ.ሳ.ቁ 965 በመደወል ማግኘት ይቻላል፡፡ \\n \\n የአብክመ የወሳኝ ኩነቶች ምዝገባ አገልግሎት  \n",
      "3                                                                                                                                                                                                                                                                                                                                                                                                                                                                                                                                                                                                                                                                                                                                                                                                                                                                                                                                                                                                                                                                                                                                                                                                                                                                                                                                                                                                                                            በድጋሚ የወጣ የሐራጅ ማስታወቂያ \\n ጣና ማይክሮ ፋይናንስ ተቋም አ.ማ ስማቸው ከዚህ በታች የተጠቀሱት ተበዳሪዎች ያለባቸውን ብድር በወቅቱ ባለመክፈላቸው ምክንያት ተቋሙ በአዋጅ ቁጥር 626/2001 እና በአዋጅ ቁጥር 97/90 በተሰጠው ስልጣን መሰረት ለብድሩ በዋስትናነት ወይም በማስያዣነት የተያዘውን የመኖሪያ ቤት በሐራጅ ጨረታ ለመሸጥ ይፈልጋል። \\n \\n \\n \\n \\n የቅርንጫፍ  ስም \\n \\n \\n የተበዳሪ  ስም \\n \\n \\n የንብረት  አስያዥ   ስም \\n \\n \\n የንብረት  አይነት \\n \\n \\n የቤቱ  ስፋት \\n \\n \\n የሐራጅ  መነቫ   ዋጋ \\n \\n \\n ሐራጁ  የሚካሄድበት   ቦታ \\n \\n \\n \\n \\n ዱር   ቤቴ  ቅርንጫፍ \\n \\n \\n አቶ   ቸርነት  ማለደ  አለባቸው \\n \\n \\n አቶ   ቸርነት  ማለደ  አለባቸው \\n \\n \\n የመ / ቤትና  ቦታ \\n \\n \\n 200  ካ . ሜ \\n \\n \\n በዜሮ \\n \\n \\n ጣና   ማ / ፋ / ተቋም  ዱርቤቴ   ቅ /  ሚያዚያ  6/2017  ዓ . ም  ከጠዋቱ  5 ፡ 00 \\n \\n \\n \\n \\n ዱር   ቤቴ  ቅርንጫፍ \\n \\n \\n አቶ  መንጋው  ጌጤ   አቤ \\n \\n \\n አቶ   መንጋው  ጌጤ   አቤ \\n \\n \\n የመ / ቤትና  ቦታ \\n \\n \\n 200  ካ . ሜ \\n \\n \\n በዜሮ \\n \\n \\n ጣና   ማ / ፋ / ተቋም  ዱርቤቴ   ቅ /  ሚያዚያ  6/2017  ዓ . ም  ከጠዋቱ  5 ፡ 00 \\n \\n \\n \\n \\n ማሳሰቢያ፡- \\n \\n ማንኛውም ተጫራች ወይም ሕጋዊ ወኪል የሐራጁን በዜሮ መነሻ ዋጋ መጫረት ይችላል። \\n አሸናፊው ጨረታውን ካሸነፈበት ቀን ጀምሮ ገንዘቡን በ15 ቀናት ውስጥ አጠቃሎ መክፈል ያለበት ሲሆን ካልከፈለ ለሐራጅ መነሻ ያስያዘው ገንዘብ ተመላሽ አይደረግለትም። \\n ሐራጁ የሚካሔድበት በአማራ ክልል ሰ/ጎጃም ዞን ዱርቤቴ ከተማ 01 ቀበሌ ዱርቤቴ ቅርንጫፍ ነው። \\n በጨረታው ላይ ተጫራቾችና ባለንብረቶች ወይም ሕጋዊ ወኪሎቻቸው መገኘት አለባቸው። \\n ተቋሙ ጨረታውን በሙሉ ወይም በከፊል የመሰረዝ መብቱ የተጠበቀ ነው። \\n በመንግስት የሚፈለጉ ግብሮችን እና የስም ማዛወሪያ እና ሌሎች ወጪዎችን የጨረታው አሸናፊ ይሸፍናል። \\n ለበለጠ መረጃ በስልክ ቁጥር +251-582-230-783 መጠየቅ ይቻላል። \\n \\n ጣና ማይክሮ ፋይናንስ ተቋም አ.ማ  \n",
      "4  ብርሃን  ባንክ \\n ያገለገሉ   ተሽከርካሪዎች   ሽያጭ   ጨረታ   ማስታወቂያ \\n ጨረታ   ቁ .  ብ / ባ / ፋ / አ -11/17 \\n ብርሃን   ባንክ   አ . ማ   ከዚህ   በታች   የተገለጹትን   ያገለገሉ   ተሽከርካሪዎች   ባሉበት   ሁኔታ   በጨረታ   አወዳድሮ   ለመሸጥ   ይፈልጋል፡፡ \\n \\n \\n \\n \\n ተ . ቁ \\n \\n \\n ለጨረታ   የቀረቡ   ያገለገሉ   ተሸከርካሪዎች \\n \\n \\n የተመረቱበት   ዓ / ም \\n \\n \\n \\n \\n 1 \\n \\n \\n መርሴዲስ   ቫን \\n \\n \\n 2020  ዓ / ም \\n \\n \\n \\n \\n 2 \\n \\n \\n ቶዮታ   ፒካፕ \\n \\n \\n 2012/2016  ዓ / ም \\n \\n \\n \\n \\n 3 \\n \\n \\n ቶዮታ  ራ ቫ -4 \\n \\n \\n 2016/2018  ዓ / ም \\n \\n \\n \\n \\n 4 \\n \\n \\n ሃይወንዳይ   ሶናታይ \\n \\n \\n 2016  ዓ / ም \\n \\n \\n \\n \\n 5 \\n \\n \\n ቶዪታ   ኤክስኩዩቲቭ \\n \\n \\n 2005  ዓ / ም \\n \\n \\n \\n \\n 6 \\n \\n \\n ሃይወንዳይ   ሚኒ   ባስ \\n \\n \\n 2014  ዓ / ም \\n \\n \\n \\n \\n 1. ተጨራቾች   ለጨረታ   የቀረቡትን   ተሽከርካሪዎች   ሜክስኮ   ዲ   አፍሪክ   ሆቴል   ጀርባ   በሚገኘዉ   የብርሀን   ባንክ   ቅጥር   ጊቢ   ዉስጥ   በመገኘት   ማየት   ይችላሉ። \\n 2.  ተጫራቾች   የማይመለስ   ብር  300.00 ( ሶስት   መቶ   ብር )   በማንኛዉም   የብርሃን   ባንክ   ቅርንጫፍ   ክፍያ   ፈፅመዉ   ደረሰኙን   በማቅረብ፣   ይህ   የጨረታ   ማስታወቂያ   በጋዜጣ   ከወጣበት   ቀን   ጀምሮ   የባንኩ   ዋና   መስሪያ   ቤት   ከሚገኝበት   ቦሌ   ብራስ   ሆስፒታል   ፊት   ለፊት   ከሚገኘዉ   ወመሳድኮ   ህንፃ  2 ተኛ   ፎቅ   ከፕሮፐርቲ   እና   ሎጂስቲክስ   አስተዳደር   መምሪያ   ቢሮ   ለጨረታዉ   የተዘጋጀዉን   ሰነድ   መግዛት   ይችላሉ። \\n 3.  ተጫራቾች   በጨረታ   ሰነዱ   ላይ   በዝርዝር   በተገለፀዉ   መሰረት   ለሚጫረቱበት   ተሸከርካሪ   የተጠቀሰዉን   የጨረታ   ማስከበሪያ   ገንዘብ   ለእያንዳንዱ   ተሸከርካሪ   በተናጠል   በብርሃን   ባንክ   ስም   የተዘጋጀ  C.P.0.  ማስያዝ   ይኖርባቸዋል። \\n 4.  ተጫራቾች   የተጠቀሱትን   ተሸከርካሪዎች   አንድ   እና   ከዛ   በላይ   በተናጠል   ተወዳድረዉ   መግዛት   የሚችሉ   ሲሆን   ሊገዙ   የሚችሉበትን   ዋጋ   ከጨረታ   ሰነዱ   ጋር   ተዘጋጅቶ   በቀረበዉ   የዋጋ   ማቅረቢያ   ፎርም   ላይ   ለእያንዳንዱ   ተሸከርካሪ   በተናጠል   በመሙላት   ከጨረታ   ማስከበሪያ  C.P.0  ጋር   አያይዘዉ   በታሸገ   ኤንቬሎፕ   ዘወትር   በሥራ   ሰዓት   እስከ   ሚያዚያ  16  ቀን  2017  ዓ / ም   ከቀኑ  8 ፡ 00   ሰዓት   ድረስ   የባንኩ   ዋና   መስሪያ   ቤት   በሚገኝበት   ቦሌ   ብራስ   ሆስፒታል   ፊት   ለፊት   በሚገኘዉ   ወመሳድኮ   ህንፃ  2 ተኛ   ፎቅ   ፕሮፐርቲ   እና  ሎጂስቲክስ አስተዳደር መምሪያ ቢሮ ለጨረታዉ በተዘጋጀ ሳጥን ማስገባት ይችላሉ፡፡ \\n 5.  ጨረታዉ   ሚያዚያ  16  ቀን  2017  ዓ / ም   ከቀኑ  8 ፡ 30  ሰዓት   ላይ   ተጫራቾች   ወይም   ህጋዊ   ወኪሎቻቸዉ   በተገኙበት   የባንኩ   ዋና   መስሪያ   ቤት   በሚገኝበት   ቦሌ   ብራስ   ሆስፒታል   ፊት   ለፊት   በሚገኘዉ   ወመሳድኮ   ህንፃ  2 ተኛ   ፎቅ   ፕሮፐርቲ   እና   ሎጂስቲክስ   አስተዳደር   መምሪያ   ቢሮ   ይከፈታል ። \\n 6.  ተጫራቾች   ወይም   ህጋዊ   ወኪሎቻቸዉ   ጨረታዉ   በሚከፈትበት   ቀንና   ሰዓት   ባይገኙ   በሌሉበት   ይከፈታል፡፡ \\n 7.  ተጫራቾች   ያሸነፉባቸዉን   ተሽከርካሪ /  ተሽከርካሪዎች   ያሸነፉበትን   ዋጋ   አጠቃለዉ   በመክፈል   አሸናፊነታቸዉ   በተገለፀላቸዉ   በ 10   ቀናት   ዉስጥ   ማንሳት   ይኖርባቸዋል።   ይህን   ሳያደርጉ   ቢቀር   ለጨረታ   ማስከበሪያ   ያሲያዙት   ገንዘብ   ለባንኩ   ገቢ   ይደረጋል። \\n 8.  የጨረታው   አሸናፊ   ላሸነፈበት   ተሽከርካሪ  /  ተሽከርካሪዎች   ከስም   ማዛወሪያ   ጋር   የተያያዙ   ወጪዎችን   በራሱ   ይሸፍናል። \\n 9.  ጨረታዉ   ከመካሄዱ   በፊትም   ሆነ   ከተካሄደ   በኋላ   ባንኩ   የተሻለ   አማራጭ   ካገኘ   ጨረታዉን   የመሰረዝ   መብት   አለዉ። \\n 10.  በባንኩ   የብድር   ፖሊሲ   መሰረት  50%  ብድር   ባንኩ   ሊያመቻች   ይችላል። \\n   Tel: 0116631729/0116182624/0116506480 \\n   ብርሃን   ባንክ   አ . ማ  \n"
     ]
    }
   ],
   "source": [
    "chunks = pd.read_csv(\"../data/processed/tenders_amharic.csv\", usecols=use_cols, chunksize=chunksize)\n",
    "\n",
    "# Process first chunk only (demo)\n",
    "for chunk in chunks:\n",
    "    print(len(chunk))\n",
    "    print(chunk.head(5))\n",
    "    break"
   ]
  },
  {
   "cell_type": "markdown",
   "id": "37249940",
   "metadata": {},
   "source": [
    "## Tenders categorization"
   ]
  }
 ],
 "metadata": {
  "kernelspec": {
   "display_name": "venv (3.12.3)",
   "language": "python",
   "name": "python3"
  },
  "language_info": {
   "codemirror_mode": {
    "name": "ipython",
    "version": 3
   },
   "file_extension": ".py",
   "mimetype": "text/x-python",
   "name": "python",
   "nbconvert_exporter": "python",
   "pygments_lexer": "ipython3",
   "version": "3.12.3"
  }
 },
 "nbformat": 4,
 "nbformat_minor": 5
}
